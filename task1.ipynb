{
 "metadata": {
  "language_info": {
   "codemirror_mode": {
    "name": "ipython",
    "version": 3
   },
   "file_extension": ".py",
   "mimetype": "text/x-python",
   "name": "python",
   "nbconvert_exporter": "python",
   "pygments_lexer": "ipython3",
   "version": "3.7.3-final"
  },
  "orig_nbformat": 2,
  "kernelspec": {
   "name": "python3",
   "display_name": "Python 3.7.3 32-bit",
   "metadata": {
    "interpreter": {
     "hash": "1f569f38f9ff0ccc2d6519de6d5565ac966e53582e7a68dd5bf488942db796b1"
    }
   }
  }
 },
 "nbformat": 4,
 "nbformat_minor": 2,
 "cells": [
  {
   "cell_type": "code",
   "execution_count": null,
   "metadata": {},
   "outputs": [],
   "source": [
    "#problem 1\n",
    "\n",
    "n = int(input())\n",
    "while n!=1:\n",
    "   if n&1:\n",
    "      n = n*3+1\n",
    "   else:\n",
    "      n = n//2\n",
    "   print(n)"
   ]
  },
  {
   "cell_type": "code",
   "execution_count": 18,
   "metadata": {},
   "outputs": [
    {
     "output_type": "stream",
     "name": "stdout",
     "text": [
      "3\n"
     ]
    }
   ],
   "source": [
    "#problem 2\n",
    "\n",
    "n = int(input())\n",
    "arr = sorted(list(map(int,input().split())))\n",
    "if n not in arr:\n",
    "        print(n)\n",
    "elif 1 not in arr:\n",
    "    print(1)\n",
    "else:\n",
    "    for i in range(len(arr)-1):\n",
    "        if arr[i+1]-arr[i]>1:\n",
    "            print(i+2)\n",
    "            break\n",
    "    \n"
   ]
  },
  {
   "cell_type": "code",
   "execution_count": 27,
   "metadata": {},
   "outputs": [
    {
     "output_type": "stream",
     "name": "stdout",
     "text": [
      "1\n"
     ]
    }
   ],
   "source": [
    "#problem 3\n",
    "# a = 'abbcccdddd'\n",
    "string = input()\n",
    "count = 1\n",
    "count_list = []\n",
    "if len(string) == 1:\n",
    "    print(1)\n",
    "else:\n",
    "    for i in range(len(string)-1):\n",
    "        if string[i+1] == string[i]:\n",
    "            count+=1\n",
    "        else:\n",
    "            count_list.append(count)\n",
    "            count = 1\n",
    "        count_list.append(count)\n",
    "    print(max(count_list))\n",
    "\n"
   ]
  },
  {
   "cell_type": "code",
   "execution_count": null,
   "metadata": {},
   "outputs": [],
   "source": []
  }
 ]
}